{
  "nbformat": 4,
  "nbformat_minor": 0,
  "metadata": {
    "colab": {
      "name": "FAQ based Question & Answering System.ipynb",
      "provenance": [],
      "collapsed_sections": [],
      "toc_visible": true
    },
    "kernelspec": {
      "name": "python3",
      "display_name": "Python 3"
    }
  },
  "cells": [
    {
      "cell_type": "code",
      "metadata": {
        "id": "OvTKzUjnbR_j",
        "colab_type": "code",
        "colab": {}
      },
      "source": [
        "import os, re, io\n",
        "import pandas as pd\n",
        "import numpy as np\n",
        "import requests\n",
        "\n",
        "## stopwords\n",
        "from gensim.parsing.preprocessing import remove_stopwords\n",
        "## lemma functionality provide by NLTK\n",
        "from nltk.stem import WordNetLemmatizer\n",
        "## make sure you downloaded model for lemmatization\n",
        "#nltk.download('wordnet')\n",
        "from nltk import word_tokenize\n",
        "## make sure you downloaded model for tokenization\n",
        "#nltk.download('punkt')\n",
        "import spacy\n",
        "nlp = spacy.load('en')\n",
        "\n",
        "## TF_IDF for BOW\n",
        "from gensim.models import TfidfModel\n",
        "from gensim.corpora import Dictionary\n",
        "## cosine similarity\n",
        "from sklearn.metrics.pairwise import cosine_similarity"
      ],
      "execution_count": 0,
      "outputs": []
    },
    {
      "cell_type": "code",
      "metadata": {
        "id": "e2lBjjkGlWWS",
        "colab_type": "code",
        "outputId": "f8238c43-1301-45a4-e25d-569cb9b44169",
        "colab": {
          "base_uri": "https://localhost:8080/",
          "height": 55
        }
      },
      "source": [
        "## mount google drive\n",
        "from google.colab import drive\n",
        "drive.mount('/content/gdrive')\n",
        "INPUT_DIR = r'gdrive/My Drive/colab data/COVID_FAQ_QA'"
      ],
      "execution_count": 4,
      "outputs": [
        {
          "output_type": "stream",
          "text": [
            "Drive already mounted at /content/gdrive; to attempt to forcibly remount, call drive.mount(\"/content/gdrive\", force_remount=True).\n"
          ],
          "name": "stdout"
        }
      ]
    },
    {
      "cell_type": "markdown",
      "metadata": {
        "id": "q6LVF-LQbek8",
        "colab_type": "text"
      },
      "source": [
        "## Data Collection Process\n",
        "\n",
        "It is very important process in Data Science. We should collect the data from various places and combine them for our analysis. \n",
        "\n",
        "In this notebook, I will be using COVID-19 FAQ questions from available online resources.\n",
        "  1. https://www.un.org/sites/un2.un.org/files/new_dhmosh_covid-19_faq.pdf\n",
        "  2. https://www.mohfw.gov.in/pdf/FAQ.pdf\n",
        "\n",
        "In this part, Will be using FAQ questions from Point 2 website for our entire QA similarity task."
      ]
    },
    {
      "cell_type": "markdown",
      "metadata": {
        "id": "MvC0iPRjtIK3",
        "colab_type": "text"
      },
      "source": [
        "#### Download dataset from source\n",
        "\n",
        "The COVID-19 FAQ data available in online. We will be taking one of the resources available in [online]( https://www.un.org/sites/un2.un.org/files/new_dhmosh_covid-19_faq.pdf) for our FAQ question answering mechanism.\n"
      ]
    },
    {
      "cell_type": "code",
      "metadata": {
        "id": "ysjLn81izDnU",
        "colab_type": "code",
        "colab": {}
      },
      "source": [
        "## The data is taken from https://www.un.org/sites/un2.un.org/files/new_dhmosh_covid-19_faq.pdf\n",
        "## it has FAQ based question and answering for COVID-19\n",
        "\n",
        "def download_pdf_url(dataset_url, file_name):\n",
        "  response = requests.get(dataset_url)\n",
        "  pdf_content_output = None\n",
        "  with io.BytesIO(response.content) as open_pdf_file:\n",
        "      with open(file_name,'w') as obj:\n",
        "        obj.write(str(open_pdf_file))    \n"
      ],
      "execution_count": 0,
      "outputs": []
    },
    {
      "cell_type": "code",
      "metadata": {
        "id": "-jf8IukGbva4",
        "colab_type": "code",
        "colab": {}
      },
      "source": [
        "dataset_url = 'https://www.un.org/sites/un2.un.org/files/new_dhmosh_covid-19_faq.pdf'\n",
        "## download pdf from URL and save the pdf file\n",
        "download_pdf_url(dataset_url, 'new_dhmosh_covid-19_faq.pdf')"
      ],
      "execution_count": 0,
      "outputs": []
    },
    {
      "cell_type": "markdown",
      "metadata": {
        "id": "MPFiSazZiouR",
        "colab_type": "text"
      },
      "source": [
        "#### Convert Structured output (.csv) from Unstructured document (.pdf)\n",
        "\n",
        "Our downloaded FAQ dataset is PDF file. We should always gather relevant information into structured format from the unstructured document. It is very important step in our flow. We will be following below steps,\n",
        "\n",
        "1.   Convert PDF into Text file\n",
        "2.   Formulate Question and answers from the text\n",
        "3.   Store as CSV file\n",
        "\n",
        "In this article, I used [pdftools - R module](https://github.com/ropensci/pdftools) for converting PDF to TXT file which is not covered in the below code. \n",
        "\n"
      ]
    },
    {
      "cell_type": "code",
      "metadata": {
        "id": "iXmMSDeajHOH",
        "colab_type": "code",
        "colab": {}
      },
      "source": [
        "## QA will be stored as .csv file\n",
        "def extract_QA_from_text_file(INPUT_DIR, text_file_name):\n",
        "  output_file_name = 'covid_19faq.csv'\n",
        "  with open(os.path.join(INPUT_DIR, text_file_name), 'r', encoding='latin') as obj:\n",
        "      text = obj.read()\n",
        "\n",
        "  text = text.strip()\n",
        "  ## extract the question by following pattern\n",
        "  pattern = '\\n+\\s*\\d+[.](.*?)\\?'\n",
        "  question_pattern = re.compile(pattern,re.MULTILINE|re.IGNORECASE|re.DOTALL)  \n",
        "  matched_QA_positions = [(m.start(0),m.end(0)) for m in question_pattern.finditer(text)]\n",
        "  print(f\"Available no of question is {len(matched_QA_positions)}\")\n",
        "  ## store question and answer pair\n",
        "  questions = {}\n",
        "  ## iterate every matched QA \n",
        "  for index in range(len(matched_QA_positions)):\n",
        "      ## get the start and end position\n",
        "      faq_start_pos = matched_QA_positions[index][0]\n",
        "      faq_end_pos = matched_QA_positions[index][1]\n",
        "      \n",
        "      if index == len(matched_QA_positions) - 1:\n",
        "          next_faq_start_pos = -1\n",
        "      else:\n",
        "          next_faq_start_pos = matched_QA_positions[index+1][0]\n",
        "\n",
        "      ## get the question from start and end position from original text      \n",
        "      question = text[faq_start_pos:faq_end_pos]\n",
        "      if next_faq_start_pos == -1:\n",
        "          answer = text[faq_end_pos:]\n",
        "      else:\n",
        "          answer = text[faq_end_pos:next_faq_start_pos]\n",
        "      ## replace multiple new lines to space in questions and answers\n",
        "      question = re.sub(\"\\n+\",\" \",question.strip())\n",
        "      answer = re.sub(\"\\n+\",\" \",answer.strip())\n",
        "      questions[question] = answer\n",
        "      \n",
        "  ## create dataframe from key-value pair\n",
        "  faq_df = pd.DataFrame.from_dict(questions, orient='index', columns=[\"answers\"])\n",
        "  faq_df[\"questions\"] = faq_df.index\n",
        "  faq_df.reset_index(inplace=True)  \n",
        "  faq_df[[\"questions\", \"answers\"]].to_csv(os.path.join(INPUT_DIR, output_file_name),index = False)\n",
        "  print(f\"COVID QA file {output_file_name} created\")"
      ],
      "execution_count": 0,
      "outputs": []
    },
    {
      "cell_type": "code",
      "metadata": {
        "id": "sXS5wz-SvKxD",
        "colab_type": "code",
        "outputId": "13c560a9-5a73-4209-9167-e7d9d9003480",
        "colab": {
          "base_uri": "https://localhost:8080/",
          "height": 54
        }
      },
      "source": [
        "## Converted PDF to .txt file using pdftools in R and stored in my google drive\n",
        "## create a question-answer pair in csv\n",
        "extract_QA_from_text_file(INPUT_DIR, 'new_dhmosh_covid-19_faq.txt')"
      ],
      "execution_count": 8,
      "outputs": [
        {
          "output_type": "stream",
          "text": [
            "Available no of question is 39\n",
            "COVID QA file covid_19faq.csv created\n"
          ],
          "name": "stdout"
        }
      ]
    },
    {
      "cell_type": "markdown",
      "metadata": {
        "id": "EDDtqKvJYPXY",
        "colab_type": "text"
      },
      "source": [
        "We've created CSV file, which contains 39 different FAQ questions about COVID-19."
      ]
    },
    {
      "cell_type": "markdown",
      "metadata": {
        "id": "odS8154NnMot",
        "colab_type": "text"
      },
      "source": [
        "#### Take a look at COVID QA Data"
      ]
    },
    {
      "cell_type": "code",
      "metadata": {
        "id": "1rOCZ9djnRwL",
        "colab_type": "code",
        "outputId": "fb381fde-2f8d-47d3-df90-062312f061c4",
        "colab": {
          "base_uri": "https://localhost:8080/",
          "height": 54
        }
      },
      "source": [
        "QA_df = pd.read_csv(os.path.join(INPUT_DIR, \"covid_19faq.csv\"))\n",
        "print(\"Dimension of dataset \",QA_df.shape)\n",
        "print(\"Available columns \",QA_df.columns)"
      ],
      "execution_count": 9,
      "outputs": [
        {
          "output_type": "stream",
          "text": [
            "Dimension of dataset  (39, 2)\n",
            "Available columns  Index(['questions', 'answers'], dtype='object')\n"
          ],
          "name": "stdout"
        }
      ]
    },
    {
      "cell_type": "code",
      "metadata": {
        "id": "qKbrh3iwnaC7",
        "colab_type": "code",
        "outputId": "b1ab9026-a79a-4d43-eba4-82198b76add2",
        "colab": {
          "base_uri": "https://localhost:8080/",
          "height": 363
        }
      },
      "source": [
        "## Take a look at first 10rows\n",
        "QA_df.head(10)"
      ],
      "execution_count": 10,
      "outputs": [
        {
          "output_type": "execute_result",
          "data": {
            "text/html": [
              "<div>\n",
              "<style scoped>\n",
              "    .dataframe tbody tr th:only-of-type {\n",
              "        vertical-align: middle;\n",
              "    }\n",
              "\n",
              "    .dataframe tbody tr th {\n",
              "        vertical-align: top;\n",
              "    }\n",
              "\n",
              "    .dataframe thead th {\n",
              "        text-align: right;\n",
              "    }\n",
              "</style>\n",
              "<table border=\"1\" class=\"dataframe\">\n",
              "  <thead>\n",
              "    <tr style=\"text-align: right;\">\n",
              "      <th></th>\n",
              "      <th>questions</th>\n",
              "      <th>answers</th>\n",
              "    </tr>\n",
              "  </thead>\n",
              "  <tbody>\n",
              "    <tr>\n",
              "      <th>0</th>\n",
              "      <td>1. How does COVID-19 spread?</td>\n",
              "      <td>People can catch COVID-19 from others who have...</td>\n",
              "    </tr>\n",
              "    <tr>\n",
              "      <th>1</th>\n",
              "      <td>2. What are the symptoms of COVID-19?</td>\n",
              "      <td>The most common symptoms of COVID-19 are fever...</td>\n",
              "    </tr>\n",
              "    <tr>\n",
              "      <th>2</th>\n",
              "      <td>3. How do I know if it is COVID-19 or just the...</td>\n",
              "      <td>A COVID-19 infection has the same signs and sy...</td>\n",
              "    </tr>\n",
              "    <tr>\n",
              "      <th>3</th>\n",
              "      <td>4. Can the virus that causes COVID-19 be trans...</td>\n",
              "      <td>Studies to date suggest that the virus that ca...</td>\n",
              "    </tr>\n",
              "    <tr>\n",
              "      <th>4</th>\n",
              "      <td>5. What can I do to protect myself and prevent...</td>\n",
              "      <td>Protection measures for everyone   Stay aware ...</td>\n",
              "    </tr>\n",
              "    <tr>\n",
              "      <th>5</th>\n",
              "      <td>6. I am well and asymptomatic. Should I use a ...</td>\n",
              "      <td>According to the WHO, for individuals without ...</td>\n",
              "    </tr>\n",
              "    <tr>\n",
              "      <th>6</th>\n",
              "      <td>7. How likely am I to catch COVID-19?</td>\n",
              "      <td>The risk depends on where you are - and more s...</td>\n",
              "    </tr>\n",
              "    <tr>\n",
              "      <th>7</th>\n",
              "      <td>8. Are pregnant women more susceptible to the ...</td>\n",
              "      <td>We do not have information from published scie...</td>\n",
              "    </tr>\n",
              "    <tr>\n",
              "      <th>8</th>\n",
              "      <td>9. What is the risk of my child becoming sick ...</td>\n",
              "      <td>Based on available evidence, children do not a...</td>\n",
              "    </tr>\n",
              "    <tr>\n",
              "      <th>9</th>\n",
              "      <td>10. Are the symptoms of COVID-19 different in ...</td>\n",
              "      <td>No. The symptoms of COVID-19 are similar in ch...</td>\n",
              "    </tr>\n",
              "  </tbody>\n",
              "</table>\n",
              "</div>"
            ],
            "text/plain": [
              "                                           questions                                            answers\n",
              "0                       1. How does COVID-19 spread?  People can catch COVID-19 from others who have...\n",
              "1              2. What are the symptoms of COVID-19?  The most common symptoms of COVID-19 are fever...\n",
              "2  3. How do I know if it is COVID-19 or just the...  A COVID-19 infection has the same signs and sy...\n",
              "3  4. Can the virus that causes COVID-19 be trans...  Studies to date suggest that the virus that ca...\n",
              "4  5. What can I do to protect myself and prevent...  Protection measures for everyone   Stay aware ...\n",
              "5  6. I am well and asymptomatic. Should I use a ...  According to the WHO, for individuals without ...\n",
              "6              7. How likely am I to catch COVID-19?  The risk depends on where you are - and more s...\n",
              "7  8. Are pregnant women more susceptible to the ...  We do not have information from published scie...\n",
              "8  9. What is the risk of my child becoming sick ...  Based on available evidence, children do not a...\n",
              "9  10. Are the symptoms of COVID-19 different in ...  No. The symptoms of COVID-19 are similar in ch..."
            ]
          },
          "metadata": {
            "tags": []
          },
          "execution_count": 10
        }
      ]
    },
    {
      "cell_type": "markdown",
      "metadata": {
        "id": "TqywB4Z4nDE5",
        "colab_type": "text"
      },
      "source": [
        "## Preprocessing Techniques\n",
        "\n",
        "Next step, We will not use the data as it is. Preprocessing is another very important step to fine-tune the dataset.\n",
        "\n",
        "1.   Remove unwanted characters\n",
        "2.   Remove Question number\n",
        "3.   Remove stopwords\n",
        "4.   Lemmatization - to reduce inflection of words and minimize the word ambiguity. \n",
        "\n",
        "**Why I chosen lemmatization over stemming?**\n",
        "Lemmatization is powerful operation as it takes into consideration of morphological analysis of the word. Example: bicycles or bicyles are converted to bicyles.\n",
        "But, stemming algorithm works by predefined rules to remove prefix or sufix of the word.\n"
      ]
    },
    {
      "cell_type": "code",
      "metadata": {
        "id": "baCEho9EMDnK",
        "colab_type": "code",
        "colab": {}
      },
      "source": [
        "## Data Preprocessing\n",
        "class TextPreprocessor():\n",
        "  def __init__(self, data_df, column_name=None):\n",
        "    self.data_df = data_df  \n",
        "    if not column_name and type(colum_name) == str:\n",
        "      raise Exception(\"column name is mandatory. Make sure type is string format\")\n",
        "    self.column = column_name\n",
        "    self.convert_lowercase()    \n",
        "    self.applied_stopword = False\n",
        "    self.processed_column_name = f\"processed_{self.column}\"\n",
        "  def convert_lowercase(self):\n",
        "    ## fill empty values into empty\n",
        "    self.data_df.fillna('',inplace=True)\n",
        "    ## reduce all the columns to lowercase\n",
        "    self.data_df = self.data_df.apply(lambda column: column.astype(str).str.lower(), axis=0)    \n",
        "\n",
        "  def remove_question_no(self):\n",
        "    ## remove question no        \n",
        "    self.data_df[self.column] = self.data_df[self.column].apply(lambda row: re.sub(r'^\\d+[.]',' ', row))    \n",
        "      \n",
        "  def remove_symbols(self):\n",
        "    ## remove unwanted character          \n",
        "    self.data_df[self.column] = self.data_df[self.column].apply(lambda row: re.sub(r'[^A-Za-z0-9\\s]', ' ', row))    \n",
        "\n",
        "  def remove_stopwords(self):\n",
        "    ## remove stopwords and create a new column \n",
        "    for idx, question in enumerate(self.data_df[self.column]):      \n",
        "      self.data_df.loc[idx, self.processed_column_name] = remove_stopwords(question)        \n",
        "\n",
        "  def apply_lemmatization(self, perform_stopword):\n",
        "    ## get the root words to reduce inflection of words \n",
        "    lemmatizer = WordNetLemmatizer()    \n",
        "    ## get the column name to perform lemma operation whether stopwords removed text or not\n",
        "    if perform_stopword:\n",
        "      column_name = self.processed_column_name\n",
        "    else:\n",
        "      column_name = self.column\n",
        "    ## iterate every question, perform tokenize and lemma\n",
        "    for idx, question in enumerate(self.data_df[column_name]):\n",
        "      \n",
        "      lemmatized_sentence = []\n",
        "      ## use spacy for lemmatization\n",
        "      doc = nlp(question.strip())\n",
        "      for word in doc:       \n",
        "        lemmatized_sentence.append(word.lemma_)      \n",
        "      ## update to the same column\n",
        "      self.data_df.loc[idx, self.processed_column_name] = \" \".join(lemmatized_sentence)\n",
        "\n",
        "  def process(self, perform_stopword = True):\n",
        "    self.remove_question_no()\n",
        "    self.remove_symbols()\n",
        "    if perform_stopword:\n",
        "      self.remove_stopwords()\n",
        "    self.apply_lemmatization(perform_stopword)    \n",
        "    return self.data_df"
      ],
      "execution_count": 0,
      "outputs": []
    },
    {
      "cell_type": "code",
      "metadata": {
        "id": "c2B3i6TUnBuD",
        "colab_type": "code",
        "outputId": "c315cf56-edff-44f4-ad97-db81e7f362dc",
        "colab": {
          "base_uri": "https://localhost:8080/",
          "height": 256
        }
      },
      "source": [
        "## pre-process training question data\n",
        "text_preprocessor = TextPreprocessor(QA_df.copy(), column_name=\"questions\")\n",
        "processed_QA_df = text_preprocessor.process(perform_stopword=True)\n",
        "print(processed_QA_df.head(10))"
      ],
      "execution_count": 15,
      "outputs": [
        {
          "output_type": "stream",
          "text": [
            "                                           questions  ...                                processed_questions\n",
            "0                          how does covid 19 spread   ...                                    covid 19 spread\n",
            "1                 what are the symptoms of covid 19   ...                                   symptom covid 19\n",
            "2    how do i know if it is covid 19 or just the ...  ...                           know covid 19 common flu\n",
            "3    can the virus that causes covid 19 be transm...  ...                  virus cause covid 19 transmit air\n",
            "4    what can i do to protect myself and prevent ...  ...                     protect prevent spread disease\n",
            "5    i am well and asymptomatic  should i use a m...  ...                              asymptomatic use mask\n",
            "6                 how likely am i to catch covid 19   ...                              likely catch covid 19\n",
            "7    are pregnant women more susceptible to the c...  ...  pregnant woman susceptible covid 19 virus harm...\n",
            "8    what is the risk of my child becoming sick w...  ...                           risk child sick covid 19\n",
            "9    are the symptoms of covid 19 different in ch...  ...             symptom covid 19 different child adult\n",
            "\n",
            "[10 rows x 3 columns]\n"
          ],
          "name": "stdout"
        }
      ]
    },
    {
      "cell_type": "markdown",
      "metadata": {
        "id": "SCV3DVFKP1xE",
        "colab_type": "text"
      },
      "source": [
        "## TF_IDF Representation"
      ]
    },
    {
      "cell_type": "code",
      "metadata": {
        "id": "j1ePFrc11bXf",
        "colab_type": "code",
        "colab": {}
      },
      "source": [
        "class TF_IDF():\n",
        "  def __init__(self):\n",
        "    self.dictionary = None    \n",
        "    self.model = None\n",
        "    self.bow_corpus = None\n",
        "\n",
        "  def create_tf_idf_model(self, data_df, column_name):\n",
        "    ## create sentence token list\n",
        "    sentence_token_list = [sentence.split(\" \") for sentence in data_df[column_name]]\n",
        "    \n",
        "    ## dataset vocabulary\n",
        "    self.dictionary = Dictionary(sentence_token_list) \n",
        "\n",
        "    ## bow representation of dataset\n",
        "    self.bow_corpus = [self.dictionary.doc2bow(sentence_tokens) for sentence_tokens in sentence_token_list]\n",
        "\n",
        "    ## compute TF-IDF score for corpus\n",
        "    self.model = TfidfModel(self.bow_corpus)\n",
        "\n",
        "    ## representation of question and respective TF-IDF value\n",
        "    print(f\"First 10 question representation of TF-IDF vector\")\n",
        "    for index, sentence in enumerate(data_df[column_name]):\n",
        "      if index <= 10:\n",
        "        print(f\"{sentence} {self.model[self.bow_corpus[index]]}\")\n",
        "      else:\n",
        "        break\n",
        "\n",
        "  def get_vector_for_test_set(self, test_df, column_name):\n",
        "    ## store tf-idf vector\n",
        "    testset_tf_idf_vector = []\n",
        "    sentence_token_list = [sentence.split(\" \") for sentence in test_df[column_name]]\n",
        "    test_bow_corpus = [self.dictionary.doc2bow(sentence_tokens) for sentence_tokens in sentence_token_list]   \n",
        "    for test_sentence in test_bow_corpus:\n",
        "      testset_tf_idf_vector.append(self.model[test_sentence])      \n",
        "    \n",
        "    return testset_tf_idf_vector\n",
        "\n",
        "  def get_training_QA_vectors(self):\n",
        "    QA_vectors = []\n",
        "    for sentence_vector in self.bow_corpus:\n",
        "      QA_vectors.append(self.model[sentence_vector])      \n",
        "    return QA_vectors\n",
        "  \n",
        "  def get_train_vocabulary(self):\n",
        "    vocab = []\n",
        "    for index in self.dictionary:\n",
        "      vocab.append(self.dictionary[index])\n",
        "    return vocab"
      ],
      "execution_count": 0,
      "outputs": []
    },
    {
      "cell_type": "code",
      "metadata": {
        "id": "Qj6fTgwJ7pPu",
        "colab_type": "code",
        "colab": {}
      },
      "source": [
        "## helps to retrieve similar question based of input vectors/embeddings for test query\n",
        "def retrieveSimilarFAQ(train_question_vectors, test_question_vectors, train_QA_df, train_column_name, test_QA_df, test_column_name):\n",
        "  similar_question_index = []\n",
        "  for test_index, test_vector in enumerate(test_question_vectors):\n",
        "    sim, sim_Q_index = -1, -1\n",
        "    for train_index, train_vector in enumerate(train_question_vectors):\n",
        "      sim_score = cosine_similarity(train_vector, test_vector)[0][0]\n",
        "     \n",
        "      if sim < sim_score:\n",
        "        sim = sim_score\n",
        "        sim_Q_index = train_index\n",
        "    \n",
        "    print(\"######\")\n",
        "    print(f\"Query Question: \\t {test_QA_df[test_column_name].iloc[test_index]}\")    \n",
        "    print(f\"Retrieved Question: \\t {train_QA_df[train_column_name].iloc[sim_Q_index]}\")\n",
        "    print(\"######\")    "
      ],
      "execution_count": 0,
      "outputs": []
    },
    {
      "cell_type": "code",
      "metadata": {
        "id": "b771vSXo3sm-",
        "colab_type": "code",
        "outputId": "143d9813-2f60-4bcc-9e9f-534ea566ffef",
        "colab": {
          "base_uri": "https://localhost:8080/",
          "height": 257
        }
      },
      "source": [
        "tf_idf = TF_IDF()\n",
        "tf_idf.create_tf_idf_model(processed_QA_df, \"processed_questions\")\n",
        "## get the tf-idf reprentation \n",
        "question_QA_vectors = tf_idf.get_training_QA_vectors()"
      ],
      "execution_count": 18,
      "outputs": [
        {
          "output_type": "stream",
          "text": [
            "First 10 question representation of TF-IDF vector\n",
            "covid 19 spread [(0, 0.1464585856867653), (1, 0.1464585856867653), (2, 0.9783147578143063)]\n",
            "symptom covid 19 [(0, 0.20700051037748057), (1, 0.20700051037748057), (3, 0.9561911824561682)]\n",
            "know covid 19 common flu [(0, 0.07405033838335093), (1, 0.07405033838335093), (4, 0.49464180281321546), (5, 0.6100666281974102), (6, 0.6100666281974102)]\n",
            "virus cause covid 19 transmit air [(0, 0.06637843630899026), (1, 0.06637843630899026), (7, 0.5468613609083381), (8, 0.5468613609083381), (9, 0.5468613609083381), (10, 0.30661989860866423)]\n",
            "protect prevent spread disease [(2, 0.48411630600355454), (11, 0.5970850032877234), (12, 0.41803385433699597), (13, 0.48411630600355454)]\n",
            "asymptomatic use mask [(14, 0.633702064906015), (15, 0.44367035721096526), (16, 0.633702064906015)]\n",
            "likely catch covid 19 [(0, 0.0934565878402429), (1, 0.0934565878402429), (17, 0.6242717603092403), (18, 0.7699457783889204)]\n",
            "pregnant woman susceptible covid 19 virus harm fetus [(0, 0.052507705989466094), (1, 0.052507705989466094), (10, 0.24254725452884893), (19, 0.4325868030682317), (20, 0.4325868030682317), (21, 0.4325868030682317), (22, 0.4325868030682317), (23, 0.4325868030682317)]\n",
            "risk child sick covid 19 [(0, 0.0896187428595788), (1, 0.0896187428595788), (24, 0.5986357051392323), (25, 0.5986357051392323), (26, 0.5169212192601942)]\n",
            "symptom covid 19 different child adult [(0, 0.07006476699987818), (1, 0.07006476699987818), (3, 0.3236480542195697), (24, 0.4680189641145477), (27, 0.5772313414392611), (28, 0.5772313414392611)]\n",
            "worry covid 19 [(0, 0.1196309784635112), (1, 0.1196309784635112), (29, 0.9855845260472212)]\n"
          ],
          "name": "stdout"
        }
      ]
    },
    {
      "cell_type": "code",
      "metadata": {
        "id": "Mil0SPILkJ86",
        "colab_type": "code",
        "colab": {}
      },
      "source": [
        "document_vocabulary = tf_idf.get_train_vocabulary()"
      ],
      "execution_count": 0,
      "outputs": []
    },
    {
      "cell_type": "markdown",
      "metadata": {
        "id": "ExIMPp5rgERb",
        "colab_type": "text"
      },
      "source": [
        "#### Evaulaute TF-IDF representation for QA similarity"
      ]
    },
    {
      "cell_type": "code",
      "metadata": {
        "id": "XDD4VQ_ahr-R",
        "colab_type": "code",
        "outputId": "84aaaf4d-a270-4094-d3fb-5d54cf314faf",
        "colab": {
          "base_uri": "https://localhost:8080/",
          "height": 127
        }
      },
      "source": [
        "test_query_string = [\"how does covid-19 spread?\", \n",
        "                     \"What are the symptoms of COVID-19?\",\n",
        "                \"Should I wear a mask to protect myself from covid-19\",              \n",
        "                \"Is there a vaccine for COVID-19\",\n",
        "                \"can the virus transmit through air?\",\n",
        "                \"can the virus spread through air?\"]\n",
        "\n",
        "test_QA_df = pd.DataFrame(test_query_string, columns=[\"test_questions\"])              \n",
        "## pre-process testing QA data\n",
        "text_preprocessor = TextPreprocessor(test_QA_df, column_name=\"test_questions\")\n",
        "query_QA_df = text_preprocessor.process(perform_stopword=True)\n",
        "## TF-IDF vector represetation\n",
        "query_QA_vectors = tf_idf.get_vector_for_test_set(query_QA_df, \"processed_test_questions\")\n",
        "print(query_QA_df.head())"
      ],
      "execution_count": 20,
      "outputs": [
        {
          "output_type": "stream",
          "text": [
            "                                      test_questions    processed_test_questions\n",
            "0                          how does covid 19 spread              covid 19 spread\n",
            "1                 what are the symptoms of covid 19             symptom covid 19\n",
            "2  should i wear a mask to protect myself from co...  wear mask protect covid 19\n",
            "3                    is there a vaccine for covid 19            vaccine covid 19\n",
            "4                can the virus transmit through air           virus transmit air\n"
          ],
          "name": "stdout"
        }
      ]
    },
    {
      "cell_type": "code",
      "metadata": {
        "id": "MFO0KBENMfCK",
        "colab_type": "code",
        "outputId": "8fd72452-5620-4b05-a475-beb29a1d8840",
        "colab": {
          "base_uri": "https://localhost:8080/",
          "height": 478
        }
      },
      "source": [
        "retrieveSimilarFAQ(question_QA_vectors, query_QA_vectors, processed_QA_df, \"questions\", query_QA_df, \"test_questions\")"
      ],
      "execution_count": 21,
      "outputs": [
        {
          "output_type": "stream",
          "text": [
            "######\n",
            "Query Question: \t how does covid 19 spread \n",
            "Retrieved Question: \t   how does covid 19 spread \n",
            "######\n",
            "######\n",
            "Query Question: \t what are the symptoms of covid 19 \n",
            "Retrieved Question: \t   how does covid 19 spread \n",
            "######\n",
            "######\n",
            "Query Question: \t should i wear a mask to protect myself from covid 19\n",
            "Retrieved Question: \t   how does covid 19 spread \n",
            "######\n",
            "######\n",
            "Query Question: \t is there a vaccine for covid 19\n",
            "Retrieved Question: \t   how does covid 19 spread \n",
            "######\n",
            "######\n",
            "Query Question: \t can the virus transmit through air \n",
            "Retrieved Question: \t   until when should i wear a mask after recovering from an illness with respiratory       symptoms \n",
            "######\n",
            "######\n",
            "Query Question: \t can the virus spread through air \n",
            "Retrieved Question: \t   what can i do to protect myself and prevent the spread of disease \n",
            "######\n"
          ],
          "name": "stdout"
        }
      ]
    },
    {
      "cell_type": "markdown",
      "metadata": {
        "id": "D6sk8hUnelRL",
        "colab_type": "text"
      },
      "source": [
        "## Embedding - Word2Vec Representation"
      ]
    },
    {
      "cell_type": "code",
      "metadata": {
        "id": "Z-FGtL32eoh3",
        "colab_type": "code",
        "colab": {}
      },
      "source": [
        "## Now, Let's try building embedding based\n",
        "import gensim.downloader as api\n",
        "from gensim.models import KeyedVectors"
      ],
      "execution_count": 0,
      "outputs": []
    },
    {
      "cell_type": "code",
      "metadata": {
        "id": "3ehlG0CI9Y6L",
        "colab_type": "code",
        "colab": {}
      },
      "source": [
        "class Embeddings():\n",
        "  def __init__(self, model_path):\n",
        "    self.model_path = model_path\n",
        "    self.model = None\n",
        "    self.__load_model__()\n",
        "    \n",
        "  def __load_model__(self):\n",
        "    #word_vectors = api.load(\"glove-wiki-gigaword-100\")  \n",
        "    model_name = 'glove-twitter-25' #'word2vec-google-news-50' #'glove-twitter-25'  \n",
        "    if not os.path.exists(self.model_path+ model_name):\n",
        "      print(\"Downloading model\")\n",
        "      self.model = api.load(model_name)\n",
        "      self.model.save(self.model_path+ model_name)\n",
        "    else:\n",
        "      print(\"Loading model from Drive\")\n",
        "      self.model = KeyedVectors.load(self.model_path+ model_name)\n",
        "    \n",
        "  def get_oov_from_model(self, document_vocabulary):\n",
        "    ## the below words are not available in our pre-trained model model_name\n",
        "    print(\"The below words are not found in our pre-trained model\")\n",
        "    words = []\n",
        "    for word in set(document_vocabulary):  \n",
        "      if word not in self.model:\n",
        "        words.append(word)\n",
        "    print(words)  \n",
        "\n",
        "  def get_sentence_embeddings(self, data_df, column_name):\n",
        "    sentence_embeddings_list = []\n",
        "    for sentence in data_df[column_name]:      \n",
        "      sentence_embeddings = np.repeat(0, self.model.vector_size)\n",
        "      try:\n",
        "        tokens = sentence.split(\" \")\n",
        "        ## get the word embedding\n",
        "        for word in tokens:\n",
        "          if word in self.model:\n",
        "            word_embedding = self.model[word]\n",
        "          else:\n",
        "            word_embedding = np.repeat(0, self.model.vector_size)          \n",
        "          sentence_embeddings = sentence_embeddings + word_embedding\n",
        "          ## take the average for sentence embeddings\n",
        "          #sentence_embeddings = sentence_embeddings / len(tokens)\n",
        "        sentence_embeddings_list.append(sentence_embeddings.reshape(1, -1))\n",
        "      except Exception as e:\n",
        "          print(e)\n",
        "        \n",
        "    return sentence_embeddings_list      "
      ],
      "execution_count": 0,
      "outputs": []
    },
    {
      "cell_type": "code",
      "metadata": {
        "id": "RztBewQgOsYG",
        "colab_type": "code",
        "outputId": "7156099b-ddea-4546-80ff-95f458df441f",
        "colab": {
          "base_uri": "https://localhost:8080/",
          "height": 129
        }
      },
      "source": [
        "## create Embedding object\n",
        "embedding = Embeddings(INPUT_DIR)\n",
        "## look for out of vocabulary COVID QA dataset - pretrained model\n",
        "embedding.get_oov_from_model(document_vocabulary)\n",
        "## get the sentence embedding for COVID QA dataset\n",
        "question_QA_embeddings = embedding.get_sentence_embeddings(processed_QA_df, \"processed_questions\")\n",
        "\n",
        "## get the sentence embedding for COVID QA query\n",
        "query_QA_embeddings = embedding.get_sentence_embeddings(query_QA_df, \"processed_test_questions\")"
      ],
      "execution_count": 25,
      "outputs": [
        {
          "output_type": "stream",
          "text": [
            "Loading model from Drive\n"
          ],
          "name": "stdout"
        },
        {
          "output_type": "stream",
          "text": [
            "/usr/local/lib/python3.6/dist-packages/smart_open/smart_open_lib.py:253: UserWarning: This function is deprecated, use smart_open.open instead. See the migration notes for details: https://github.com/RaRe-Technologies/smart_open/blob/master/README.rst#migrating-to-the-new-open-function\n",
            "  'See the migration notes for details: %s' % _MIGRATION_NOTES_URL\n"
          ],
          "name": "stderr"
        },
        {
          "output_type": "stream",
          "text": [
            "The below words are not found in our pre-trained model\n",
            "['19', 'criticality', 'quarantining', 'covid']\n"
          ],
          "name": "stdout"
        }
      ]
    },
    {
      "cell_type": "code",
      "metadata": {
        "id": "AHJ7fCIdW6yr",
        "colab_type": "code",
        "colab": {}
      },
      "source": [
        "## Only few words are not available in pre-trained embeddings. It's fine to omit keyword like covid and 19\n",
        "## Since, I don't have much data to build own Word2Vec embeddings."
      ],
      "execution_count": 0,
      "outputs": []
    },
    {
      "cell_type": "markdown",
      "metadata": {
        "id": "IeNJyX8gDjkp",
        "colab_type": "text"
      },
      "source": [
        "#### Evaluate Embedding Representation for QA similarity"
      ]
    },
    {
      "cell_type": "code",
      "metadata": {
        "id": "g03z5tBdQeuf",
        "colab_type": "code",
        "outputId": "37496d7a-366e-4bad-ff7d-8ae649f3654f",
        "colab": {
          "base_uri": "https://localhost:8080/",
          "height": 458
        }
      },
      "source": [
        "retrieveSimilarFAQ(question_QA_embeddings, query_QA_embeddings, processed_QA_df, \"questions\", query_QA_df, \"test_questions\")"
      ],
      "execution_count": 27,
      "outputs": [
        {
          "output_type": "stream",
          "text": [
            "######\n",
            "Query Question: \t how does covid 19 spread \n",
            "Retrieved Question: \t   how does covid 19 spread \n",
            "######\n",
            "######\n",
            "Query Question: \t what are the symptoms of covid 19 \n",
            "Retrieved Question: \t   what are the symptoms of covid 19 \n",
            "######\n",
            "######\n",
            "Query Question: \t should i wear a mask to protect myself from covid 19\n",
            "Retrieved Question: \t   should i wear a mask to protect myself from catching the covid 19 virus \n",
            "######\n",
            "######\n",
            "Query Question: \t is there a vaccine for covid 19\n",
            "Retrieved Question: \t   is there a vaccine  drug or treatment for covid 19 \n",
            "######\n",
            "######\n",
            "Query Question: \t can the virus transmit through air \n",
            "Retrieved Question: \t   can the virus that causes covid 19 be transmitted through the air \n",
            "######\n",
            "######\n",
            "Query Question: \t can the virus spread through air \n",
            "Retrieved Question: \t   can the virus that causes covid 19 be transmitted through the air \n",
            "######\n"
          ],
          "name": "stdout"
        }
      ]
    },
    {
      "cell_type": "markdown",
      "metadata": {
        "id": "SzkULk4EEScZ",
        "colab_type": "text"
      },
      "source": [
        "## BERT Embeddings"
      ]
    },
    {
      "cell_type": "code",
      "metadata": {
        "id": "aL23VcGpETJ8",
        "colab_type": "code",
        "colab": {}
      },
      "source": [
        "#!pip install bert-embedding"
      ],
      "execution_count": 0,
      "outputs": []
    },
    {
      "cell_type": "code",
      "metadata": {
        "id": "r6Yz55DVN4In",
        "colab_type": "code",
        "colab": {}
      },
      "source": [
        "from bert_embedding import BertEmbedding"
      ],
      "execution_count": 0,
      "outputs": []
    },
    {
      "cell_type": "code",
      "metadata": {
        "id": "7cjSV2cNOG8t",
        "colab_type": "code",
        "colab": {}
      },
      "source": [
        "bert_embedding = BertEmbedding()"
      ],
      "execution_count": 0,
      "outputs": []
    },
    {
      "cell_type": "code",
      "metadata": {
        "id": "VSu64mgPOMQj",
        "colab_type": "code",
        "colab": {}
      },
      "source": [
        "QA_questions = processed_QA_df[\"questions\"].to_list()\n",
        "query_QA_questions = test_QA_df[\"test_questions\"].to_list()"
      ],
      "execution_count": 0,
      "outputs": []
    },
    {
      "cell_type": "code",
      "metadata": {
        "id": "dkW8srvGPVh3",
        "colab_type": "code",
        "colab": {}
      },
      "source": [
        "question_QA_bert_embeddings_list = bert_embedding(QA_questions)\n",
        "query_QA_bert_embeddings_list = bert_embedding(query_QA_questions)"
      ],
      "execution_count": 0,
      "outputs": []
    },
    {
      "cell_type": "code",
      "metadata": {
        "id": "aY1n3EC5PfCr",
        "colab_type": "code",
        "colab": {}
      },
      "source": [
        "## store QA bert embeddings in list\n",
        "question_QA_bert_embeddings = []\n",
        "for embeddings in question_QA_bert_embeddings_list:\n",
        "  question_QA_bert_embeddings.append(embeddings[1])\n",
        "\n",
        "## store query string bert embeddings in list\n",
        "query_QA_bert_embeddings = []\n",
        "for embeddings in query_QA_bert_embeddings_list:\n",
        "  query_QA_bert_embeddings.append(embeddings[1])"
      ],
      "execution_count": 0,
      "outputs": []
    },
    {
      "cell_type": "markdown",
      "metadata": {
        "id": "JQDgflUZR5ln",
        "colab_type": "text"
      },
      "source": [
        "#### Evaluate BERT embeddings for QA similarity"
      ]
    },
    {
      "cell_type": "code",
      "metadata": {
        "id": "j-qlpfa2P0cX",
        "colab_type": "code",
        "colab": {
          "base_uri": "https://localhost:8080/",
          "height": 458
        },
        "outputId": "2bcc824b-66ea-4972-fd89-d48644abb5c7"
      },
      "source": [
        "retrieveSimilarFAQ(question_QA_bert_embeddings, query_QA_bert_embeddings, processed_QA_df, \"questions\", query_QA_df, \"test_questions\")"
      ],
      "execution_count": 57,
      "outputs": [
        {
          "output_type": "stream",
          "text": [
            "######\n",
            "Query Question: \t how does covid 19 spread \n",
            "Retrieved Question: \t   how does covid 19 spread \n",
            "######\n",
            "######\n",
            "Query Question: \t what are the symptoms of covid 19 \n",
            "Retrieved Question: \t   what are the symptoms of covid 19 \n",
            "######\n",
            "######\n",
            "Query Question: \t should i wear a mask to protect myself from covid 19\n",
            "Retrieved Question: \t   should i wear a mask to protect myself from catching the covid 19 virus \n",
            "######\n",
            "######\n",
            "Query Question: \t is there a vaccine for covid 19\n",
            "Retrieved Question: \t   is there a vaccine  drug or treatment for covid 19 \n",
            "######\n",
            "######\n",
            "Query Question: \t can the virus transmit through air \n",
            "Retrieved Question: \t   can the virus that causes covid 19 be transmitted through the air \n",
            "######\n",
            "######\n",
            "Query Question: \t can the virus spread through air \n",
            "Retrieved Question: \t   can the virus that causes covid 19 be transmitted through the air \n",
            "######\n"
          ],
          "name": "stdout"
        }
      ]
    },
    {
      "cell_type": "code",
      "metadata": {
        "id": "3XV2cvGPSni6",
        "colab_type": "code",
        "colab": {}
      },
      "source": [
        ""
      ],
      "execution_count": 0,
      "outputs": []
    }
  ]
}